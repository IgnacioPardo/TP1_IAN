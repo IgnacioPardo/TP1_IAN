{
 "cells": [
  {
   "cell_type": "code",
   "execution_count": 1,
   "metadata": {},
   "outputs": [],
   "source": [
    "# !pip install numpy tqdm pandas matplotlib"
   ]
  },
  {
   "cell_type": "code",
   "execution_count": null,
   "metadata": {},
   "outputs": [],
   "source": [
    "from diezmil import JuegoDiezMil\n",
    "from jugador import JugadorAleatorio, JugadorSiempreSePlanta\n",
    "from template import JugadorEntrenado\n",
    "\n",
    "\n",
    "jugador = JugadorAleatorio(\"random\")\n",
    "juego = JuegoDiezMil(jugador)\n",
    "(cantidad_turnos, puntaje_final) = juego.jugar(verbose=True)\n",
    "print(jugador.nombre, cantidad_turnos, puntaje_final)\n",
    "\n",
    "jugador = JugadorSiempreSePlanta(\"plantón\")\n",
    "juego = JuegoDiezMil(jugador)\n",
    "(cantidad_turnos, puntaje_final) = juego.jugar(verbose=True)\n",
    "print(jugador.nombre, cantidad_turnos, puntaje_final)\n",
    "\n",
    "jugador = JugadorEntrenado(\"Deep Purple 1.5M\", \"politica_1500000.csv\")\n",
    "juego = JuegoDiezMil(jugador)\n",
    "(cantidad_turnos, puntaje_final) = juego.jugar(verbose=True)\n",
    "print(jugador.nombre, cantidad_turnos, puntaje_final)"
   ]
  },
  {
   "cell_type": "code",
   "execution_count": null,
   "metadata": {},
   "outputs": [],
   "source": [
    "import pandas as pd\n",
    "import matplotlib.pyplot as plt\n",
    "\n",
    "# Definir los jugadores\n",
    "jugadores = [\n",
    "    (\"JugadorAleatorio\", \"random\"),\n",
    "    (\"JugadorSiempreSePlanta\", \"plantón\"),\n",
    "    (\"JugadorEntrenado\", \"Deep Purple 1.5M\", \"politica_1500000.csv\")\n",
    "]\n",
    "\n",
    "# Inicializar una lista para almacenar los resultados\n",
    "resultados = []\n",
    "n_sims = 1000\n",
    "\n",
    "# Simular 100 juegos para cada jugador\n",
    "for jugador_info in jugadores:\n",
    "    for _ in range(n_sims):\n",
    "        if len(jugador_info) == 2:\n",
    "            jugador = globals()[jugador_info[0]](jugador_info[1])\n",
    "        else:\n",
    "            jugador = globals()[jugador_info[0]](jugador_info[1], jugador_info[2])\n",
    "\n",
    "        juego = JuegoDiezMil(jugador)\n",
    "        cantidad_turnos, puntaje_final = juego.jugar(verbose=False)\n",
    "        resultados.append(\n",
    "            {\n",
    "                \"jugador\": jugador.nombre,\n",
    "                \"cantidad_turnos\": cantidad_turnos,\n",
    "                \"puntaje_final\": puntaje_final,\n",
    "            }\n",
    "        )\n",
    "\n",
    "# Convertir los resultados a un DataFrame\n",
    "df_resultados = pd.DataFrame(resultados)\n",
    "\n",
    "# Graficar los resultados\n",
    "fig, axes = plt.subplots(1, 2, figsize=(14, 7))\n",
    "\n",
    "# Graficar la cantidad de turnos\n",
    "df_resultados.boxplot(column=\"cantidad_turnos\", by=\"jugador\", ax=axes[0])\n",
    "axes[0].set_title(\"Cantidad de Turnos por Jugador\")\n",
    "axes[0].set_xlabel(\"Jugador\")\n",
    "axes[0].set_ylabel(\"Cantidad de Turnos\")\n",
    "\n",
    "# Graficar el puntaje final\n",
    "df_resultados.boxplot(column=\"puntaje_final\", by=\"jugador\", ax=axes[1])\n",
    "axes[1].set_title(\"Puntaje Final por Jugador\")\n",
    "axes[1].set_xlabel(\"Jugador\")\n",
    "axes[1].set_ylabel(\"Puntaje Final\")\n",
    "\n",
    "plt.suptitle(\"Resultados de 100 Juegos por Jugador\")\n",
    "plt.tight_layout()\n",
    "plt.show()"
   ]
  },
  {
   "cell_type": "code",
   "execution_count": null,
   "metadata": {},
   "outputs": [],
   "source": []
  }
 ],
 "metadata": {
  "kernelspec": {
   "display_name": "coding",
   "language": "python",
   "name": "python3"
  },
  "language_info": {
   "codemirror_mode": {
    "name": "ipython",
    "version": 3
   },
   "file_extension": ".py",
   "mimetype": "text/x-python",
   "name": "python",
   "nbconvert_exporter": "python",
   "pygments_lexer": "ipython3",
   "version": "3.10.9"
  }
 },
 "nbformat": 4,
 "nbformat_minor": 2
}
