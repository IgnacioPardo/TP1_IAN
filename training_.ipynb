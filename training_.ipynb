{
 "cells": [
  {
   "cell_type": "code",
   "execution_count": 1,
   "metadata": {},
   "outputs": [],
   "source": [
    "# Crear una instancia del ambiente\n",
    "import numpy as np\n",
    "import matplotlib.pyplot as plt\n",
    "from agente import AgenteQLearning\n",
    "from ambiente import AmbienteDiezMil\n",
    "from template import Validador\n",
    "from IPython.display import clear_output\n",
    "from tqdm import tqdm"
   ]
  },
  {
   "cell_type": "code",
   "execution_count": 2,
   "metadata": {},
   "outputs": [
    {
     "data": {
      "image/png": "[encoded data removed]",
      "text/plain": [
       "<Figure size 432x288 with 1 Axes>"
      ]
     },
     "metadata": {
      "needs_background": "light"
     },
     "output_type": "display_data"
    },
    {
     "name": "stderr",
     "output_type": "stream",
     "text": [
      " 40%|████      | 403/1000 [06:52<10:10,  1.02s/it]\n"
     ]
    },
    {
     "ename": "KeyboardInterrupt",
     "evalue": "",
     "output_type": "error",
     "traceback": [
      "\u001b[0;31m---------------------------------------------------------------------------\u001b[0m",
      "\u001b[0;31mKeyboardInterrupt\u001b[0m                         Traceback (most recent call last)",
      "Input \u001b[0;32mIn [2]\u001b[0m, in \u001b[0;36m<cell line: 16>\u001b[0;34m()\u001b[0m\n\u001b[1;32m     15\u001b[0m \u001b[38;5;66;03m# Entrenar al agente con un número de episodios\u001b[39;00m\n\u001b[1;32m     16\u001b[0m \u001b[38;5;28;01mfor\u001b[39;00m _ \u001b[38;5;129;01min\u001b[39;00m tqdm(\u001b[38;5;28mrange\u001b[39m(epochs)):\n\u001b[0;32m---> 17\u001b[0m     \u001b[43magente\u001b[49m\u001b[38;5;241;43m.\u001b[39;49m\u001b[43mentrenar\u001b[49m\u001b[43m(\u001b[49m\u001b[43mepisodios\u001b[49m\u001b[43m,\u001b[49m\u001b[43m \u001b[49m\u001b[43mverbose\u001b[49m\u001b[38;5;241;43m=\u001b[39;49m\u001b[38;5;28;43;01mFalse\u001b[39;49;00m\u001b[43m)\u001b[49m\n\u001b[1;32m     18\u001b[0m     validador \u001b[38;5;241m=\u001b[39m Validador(ambiente)\n\u001b[1;32m     19\u001b[0m     \u001b[38;5;28;01mif\u001b[39;00m _ \u001b[38;5;241m%\u001b[39m \u001b[38;5;241m10\u001b[39m \u001b[38;5;241m==\u001b[39m \u001b[38;5;241m0\u001b[39m:\n",
      "File \u001b[0;32m~/Universidad/IA - Neuro/TP1_IAN/agente.py:90\u001b[0m, in \u001b[0;36mAgenteQLearning.entrenar\u001b[0;34m(self, episodios, verbose)\u001b[0m\n\u001b[1;32m     86\u001b[0m estado \u001b[38;5;241m=\u001b[39m \u001b[38;5;28mself\u001b[39m\u001b[38;5;241m.\u001b[39mambiente\u001b[38;5;241m.\u001b[39mestado()\n\u001b[1;32m     88\u001b[0m q_actual \u001b[38;5;241m=\u001b[39m \u001b[38;5;28mself\u001b[39m\u001b[38;5;241m.\u001b[39mq_table[(estado) \u001b[38;5;241m+\u001b[39m (accion,)]\n\u001b[0;32m---> 90\u001b[0m recompensa, turno_finalizado, juego_finalizado \u001b[38;5;241m=\u001b[39m \u001b[38;5;28;43mself\u001b[39;49m\u001b[38;5;241;43m.\u001b[39;49m\u001b[43mambiente\u001b[49m\u001b[38;5;241;43m.\u001b[39;49m\u001b[43mstep\u001b[49m\u001b[43m(\u001b[49m\u001b[43maccion\u001b[49m\u001b[43m)\u001b[49m\n\u001b[1;32m     92\u001b[0m q_siguiente \u001b[38;5;241m=\u001b[39m np\u001b[38;5;241m.\u001b[39mmax(\u001b[38;5;28mself\u001b[39m\u001b[38;5;241m.\u001b[39mq_table[\u001b[38;5;28mself\u001b[39m\u001b[38;5;241m.\u001b[39mambiente\u001b[38;5;241m.\u001b[39mestado()])\n\u001b[1;32m     94\u001b[0m \u001b[38;5;28mself\u001b[39m\u001b[38;5;241m.\u001b[39mq_table[(estado) \u001b[38;5;241m+\u001b[39m (accion,)] \u001b[38;5;241m=\u001b[39m q_actual \u001b[38;5;241m+\u001b[39m \u001b[38;5;28mself\u001b[39m\u001b[38;5;241m.\u001b[39malpha \u001b[38;5;241m*\u001b[39m (\n\u001b[1;32m     95\u001b[0m     recompensa \u001b[38;5;241m+\u001b[39m \u001b[38;5;28mself\u001b[39m\u001b[38;5;241m.\u001b[39mgamma \u001b[38;5;241m*\u001b[39m q_siguiente \u001b[38;5;241m-\u001b[39m q_actual\n\u001b[1;32m     96\u001b[0m )\n",
      "File \u001b[0;32m~/Universidad/IA - Neuro/TP1_IAN/ambiente.py:46\u001b[0m, in \u001b[0;36mAmbienteDiezMil.step\u001b[0;34m(self, accion)\u001b[0m\n\u001b[1;32m     43\u001b[0m     recompensa \u001b[38;5;241m=\u001b[39m \u001b[38;5;28mself\u001b[39m\u001b[38;5;241m.\u001b[39mestado\u001b[38;5;241m.\u001b[39mpuntaje_turno_miles \u001b[38;5;241m*\u001b[39m \u001b[38;5;28mself\u001b[39m\u001b[38;5;241m.\u001b[39mmultiplicador_recompensa\n\u001b[1;32m     45\u001b[0m \u001b[38;5;28;01melif\u001b[39;00m accion \u001b[38;5;241m==\u001b[39m JUGADA_TIRAR:\n\u001b[0;32m---> 46\u001b[0m     puntaje, no_usados \u001b[38;5;241m=\u001b[39m puntaje_y_no_usados(\u001b[43mnp\u001b[49m\u001b[38;5;241;43m.\u001b[39;49m\u001b[43mrandom\u001b[49m\u001b[38;5;241;43m.\u001b[39;49m\u001b[43mrandint\u001b[49m\u001b[43m(\u001b[49m\u001b[38;5;241;43m1\u001b[39;49m\u001b[43m,\u001b[49m\u001b[43m \u001b[49m\u001b[38;5;241;43m7\u001b[39;49m\u001b[43m,\u001b[49m\u001b[43m \u001b[49m\u001b[38;5;28;43mself\u001b[39;49m\u001b[38;5;241;43m.\u001b[39;49m\u001b[43mestado\u001b[49m\u001b[38;5;241;43m.\u001b[39;49m\u001b[43mdados_disponibles\u001b[49m\u001b[43m)\u001b[49m)\n\u001b[1;32m     47\u001b[0m     \u001b[38;5;28;01mif\u001b[39;00m puntaje \u001b[38;5;241m==\u001b[39m \u001b[38;5;241m0\u001b[39m:\n\u001b[1;32m     48\u001b[0m         turno_finalizado \u001b[38;5;241m=\u001b[39m \u001b[38;5;28;01mTrue\u001b[39;00m\n",
      "File \u001b[0;32mmtrand.pyx:748\u001b[0m, in \u001b[0;36mnumpy.random.mtrand.RandomState.randint\u001b[0;34m()\u001b[0m\n",
      "File \u001b[0;32m_bounded_integers.pyx:1228\u001b[0m, in \u001b[0;36mnumpy.random._bounded_integers._rand_int64\u001b[0;34m()\u001b[0m\n",
      "File \u001b[0;32m<__array_function__ internals>:177\u001b[0m, in \u001b[0;36mprod\u001b[0;34m(*args, **kwargs)\u001b[0m\n",
      "\u001b[0;31mKeyboardInterrupt\u001b[0m: "
     ]
    }
   ],
   "source": [
    "# Inicialización del gráfico\n",
    "plt.ion()  # Activa el modo interactivo\n",
    "seed = 42\n",
    "np.random.seed(seed)\n",
    "\n",
    "ambiente = AmbienteDiezMil()\n",
    "\n",
    "# Crear un agente de Q-learning\n",
    "agente = AgenteQLearning(ambiente, alpha=0.001, gamma=0.1, epsilon=0.05)\n",
    "episodios = 1000\n",
    "epochs = 1000\n",
    "\n",
    "vals = []\n",
    "\n",
    "# Entrenar al agente con un número de episodios\n",
    "for _ in tqdm(range(epochs)):\n",
    "    agente.entrenar(episodios, verbose=False)\n",
    "    validador = Validador(ambiente)\n",
    "    if _ % 10 == 0:\n",
    "        vals.append(validador.validar_politica(agente.q_table2pol(), 100))\n",
    "        clear_output(wait=True)\n",
    "        plt.plot(vals, label=\"Turnos promedio\")\n",
    "        plt.legend()\n",
    "        plt.show()\n",
    "\n",
    "plt.ioff()  # Desactiva el modo interactivo"
   ]
  },
  {
   "cell_type": "code",
   "execution_count": 4,
   "metadata": {},
   "outputs": [
    {
     "name": "stdout",
     "output_type": "stream",
     "text": [
      "Validación DeepPurple: 25.066\n",
      "Validación Random: 26.927\n"
     ]
    }
   ],
   "source": [
    "from jugador import JugadorAleatorio\n",
    "from template import Validador\n",
    "\n",
    "\n",
    "val = Validador(ambiente)\n",
    "val_count = 1000\n",
    "avg = val.validar_politica(agente.q_table2pol(), val_count)\n",
    "print(f\"Validación DeepPurple: {avg}\")\n",
    "\n",
    "val_rand = Validador(ambiente)\n",
    "jugador = JugadorAleatorio(\"random\")\n",
    "avg_rand = val_rand.validar_jugador(jugador, val_count)\n",
    "print(f\"Validación Random: {avg_rand}\")"
   ]
  },
  {
   "cell_type": "code",
   "execution_count": null,
   "metadata": {},
   "outputs": [],
   "source": [
    "%matplotlib inline\n",
    "import time\n",
    "# import pylab as pl\n",
    "from IPython import display\n",
    "\n",
    "\n",
    "ambiente = AmbienteDiezMil()\n",
    "\n",
    "# Crear un agente de Q-learning\n",
    "agente = AgenteQLearning(ambiente)\n",
    "\n",
    "vals = []\n",
    "\n",
    "for i, val in enumerate(agente.entrenar(episodios, verbose=True)):\n",
    "    vals.append(val)\n",
    "    plt.figure(figsize=(10, 5))\n",
    "    plt.plot(vals)\n",
    "    display.clear_output(wait=True)\n",
    "    # display.display(pl.gcf())\n",
    "    plt.show()"
   ]
  },
  {
   "cell_type": "code",
   "execution_count": null,
   "metadata": {},
   "outputs": [],
   "source": []
  }
 ],
 "metadata": {
  "kernelspec": {
   "display_name": "Python 3",
   "language": "python",
   "name": "python3"
  },
  "language_info": {
   "codemirror_mode": {
    "name": "ipython",
    "version": 3
   },
   "file_extension": ".py",
   "mimetype": "text/x-python",
   "name": "python",
   "nbconvert_exporter": "python",
   "pygments_lexer": "ipython3",
   "version": "3.10.9"
  }
 },
 "nbformat": 4,
 "nbformat_minor": 2
}
